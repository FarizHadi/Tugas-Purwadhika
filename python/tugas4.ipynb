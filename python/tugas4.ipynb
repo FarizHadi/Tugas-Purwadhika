{
 "cells": [
  {
   "cell_type": "code",
   "execution_count": 27,
   "metadata": {},
   "outputs": [
    {
     "name": "stdout",
     "output_type": "stream",
     "text": [
      "(0, 3)\n"
     ]
    }
   ],
   "source": [
    "#Q2\n",
    "nums_list = [2,7,11,15]\n",
    "target = 17\n",
    "\n",
    "def findIndex(nums_list, target):\n",
    "    item1_id = 0\n",
    "    item2_id = 0\n",
    "\n",
    "    result = []\n",
    "\n",
    "    for i in range(len(nums_list)):\n",
    "        for j in range(len(nums_list)):\n",
    "            if i == j:\n",
    "                continue\n",
    "            else:\n",
    "                sum = nums_list[i] + nums_list[j]\n",
    "                if sum == target:\n",
    "                    item1_id = i\n",
    "                    item2_id = j\n",
    "                    result.append(item1_id)\n",
    "                    result.append(item2_id)\n",
    "                    break\n",
    "        if len(result) > 0:\n",
    "            break   \n",
    "\n",
    "    result = tuple(result)\n",
    "    return result\n",
    "\n",
    "print(findIndex(nums_list,target))"
   ]
  },
  {
   "cell_type": "code",
   "execution_count": 50,
   "metadata": {},
   "outputs": [
    {
     "name": "stdout",
     "output_type": "stream",
     "text": [
      "(('a', 1), ('d', 2), ('b', 3), ('c', 5))\n"
     ]
    }
   ],
   "source": [
    "#Q3\n",
    "def sortTuple(nums):\n",
    "    nums = list(nums)\n",
    "\n",
    "    for i in range(0, len(nums)):\n",
    "        for j in range(i + 1, len(nums)):\n",
    "            if nums[i][1] >= nums[j][1]:\n",
    "                nums[i],nums[j] = nums[j],nums[i]\n",
    "    nums = tuple(nums)\n",
    "    return nums\n",
    "\n",
    "nums = (('a', 1), ('b', 3), ('c', 5), ('d', 2))\n",
    "print(sortTuple(nums))"
   ]
  },
  {
   "cell_type": "code",
   "execution_count": 43,
   "metadata": {},
   "outputs": [
    {
     "name": "stdout",
     "output_type": "stream",
     "text": [
      "('7', '0', '8')\n"
     ]
    }
   ],
   "source": [
    "#Q4\n",
    "def addList(l1,l2):\n",
    "    str_nums1 = \"\"\n",
    "    str_nums2 = \"\"\n",
    "\n",
    "    for i in range(len(l1) - 1, -1, -1):\n",
    "        str_nums1 += str(l1[i])\n",
    "\n",
    "    for i in range(len(l2) - 1, -1, -1):\n",
    "        str_nums2 += str(l2[i])\n",
    "\n",
    "    sum = int(str_nums1) + int(str_nums2)\n",
    "    sum = str(sum)\n",
    "\n",
    "    result = []\n",
    "    for i in range(len(sum) - 1, -1, -1):\n",
    "        result.append(sum[i])\n",
    "    # convert ke tuple  \n",
    "    result = tuple(result)    \n",
    "    return result \n",
    "\n",
    "l1 = [2,4,3]\n",
    "l2 = [5,6,4]\n",
    "print(addList(l1,l2))\n",
    "\n",
    "      "
   ]
  },
  {
   "cell_type": "code",
   "execution_count": 60,
   "metadata": {},
   "outputs": [],
   "source": [
    "#Q5\n",
    "\n",
    "l1 = [1, 3, 6]\n",
    "l2 = [5, 7, 8, 9]\n",
    "\n",
    "def mergeTwoLists(l1,l2):\n",
    "    numbers = l1+l2\n",
    "\n",
    "    for i in range(0, len(numbers)):\n",
    "        for j in range(i + 1, len(numbers)):\n",
    "            if numbers[i] >= numbers[j]:\n",
    "                numbers[i],numbers[j] = numbers[j],numbers[i]\n",
    "    return numbers\n",
    "\n",
    "assert mergeTwoLists([1, 3, 6], [5, 7, 8, 9]) == [1, 3, 5, 6, 7, 8, 9]\n",
    "assert mergeTwoLists([4, 5], [1, 2, 3]) == [1, 2, 3, 4, 5]\n",
    "assert mergeTwoLists([2, 2, 2], [2, 2, 2]) == [2, 2, 2, 2, 2, 2]\n",
    "assert mergeTwoLists([], [1, 2, 3]) == [1, 2, 3]"
   ]
  },
  {
   "cell_type": "code",
   "execution_count": 66,
   "metadata": {},
   "outputs": [
    {
     "name": "stdout",
     "output_type": "stream",
     "text": [
      "eH1!dA8%j\n"
     ]
    }
   ],
   "source": [
    "#Q7\n",
    "import random\n",
    "\n",
    "def generatePassword(pass_length):\n",
    "    LOWER_LETTERS = 'abcdefghijklmnopqrstuvwxyz'\n",
    "    UPPER_LETTERS = 'ABCDEFGHIJKLMNOPQRSTUVWXYZ'\n",
    "    NUMBERS = '1234567890'\n",
    "    SPECIAL = '~!@#$%^&*()_+'\n",
    "    \n",
    "    combination = [0,1,2,3] # Merepresentasikan LOWER_LETTERS, UPPER_LETTERS, NUMBERS, SPECIAL\n",
    "    combination_val = 0\n",
    "\n",
    "    result = \"\"\n",
    "    for i in range(pass_length):\n",
    "        \n",
    "        if combination_val == 0:\n",
    "            result += LOWER_LETTERS[random.randint(0,25)]\n",
    "            combination_val += 1\n",
    "        elif combination_val == 1:\n",
    "            result += UPPER_LETTERS[random.randint(0,25)]\n",
    "            combination_val += 1\n",
    "        elif combination_val == 2:\n",
    "            result += NUMBERS[random.randint(0,9)]\n",
    "            combination_val += 1\n",
    "        else:\n",
    "            result += SPECIAL[random.randint(0,12)]\n",
    "            combination_val = 0 # agar combinasi berubah dari awal i.e LOWER_LETTERS\n",
    "    return result\n",
    "\n",
    "print(generatePassword(9))"
   ]
  },
  {
   "cell_type": "code",
   "execution_count": 67,
   "metadata": {},
   "outputs": [],
   "source": [
    "# Testing for Q7\n",
    "\n",
    "LOWER_LETTERS = 'abcdefghijklmnopqrstuvwxyz'\n",
    "UPPER_LETTERS = 'ABCDEFGHIJKLMNOPQRSTUVWXYZ'\n",
    "NUMBERS = '1234567890'\n",
    "SPECIAL = '~!@#$%^&*()_+'\n",
    "\n",
    "password = generatePassword(8)\n",
    "hasLowerCase = False\n",
    "hasUpperCase = False\n",
    "hasNumber = False\n",
    "hasSpecial = False\n",
    "\n",
    "for char in password:\n",
    "    if char in LOWER_LETTERS:\n",
    "        hasLowerCase = True\n",
    "    if char in UPPER_LETTERS:\n",
    "        hasUpperCase = True\n",
    "    if char in NUMBERS:\n",
    "        hasNumber = True\n",
    "    if char in SPECIAL:\n",
    "        hasSpecial = True\n",
    "\n",
    "assert hasLowerCase and hasUpperCase and hasNumber and hasSpecial"
   ]
  },
  {
   "cell_type": "code",
   "execution_count": 85,
   "metadata": {},
   "outputs": [
    {
     "data": {
      "text/plain": [
       "[[-1, -1, 2], [-1, 0, 1], [-2, 0, 2], [-2, 1, 1], [-4, 2, 2]]"
      ]
     },
     "execution_count": 85,
     "metadata": {},
     "output_type": "execute_result"
    }
   ],
   "source": [
    "#Q8 \n",
    "nums = [-1, 0, 1, -2, -1, 2, -4]\n",
    "\n",
    "def sumList(num):\n",
    "    result = []\n",
    "    part_result = [] # untuk menampung per bagian list\n",
    "\n",
    "    for i in range(len(num)):\n",
    "        for j in range(len(num)):\n",
    "            for k in range(len(num)):\n",
    "                if i == j == k:\n",
    "                    continue\n",
    "                else:\n",
    "                    sum = num[i] + num[j] + num[k]\n",
    "                    if sum == 0:\n",
    "                        part_result.append(num[i])\n",
    "                        part_result.append(num[j])\n",
    "                        part_result.append(num[k])\n",
    "                        part_result.sort()\n",
    "\n",
    "                        if part_result not in result:\n",
    "                            result.append(part_result)\n",
    "                            part_result = [] # kosong kan lagi\n",
    "                        part_result = []    \n",
    "\n",
    "    return result                         \n",
    "\n",
    "sumList(nums)"
   ]
  },
  {
   "cell_type": "code",
   "execution_count": null,
   "metadata": {},
   "outputs": [],
   "source": []
  }
 ],
 "metadata": {
  "kernelspec": {
   "display_name": "base",
   "language": "python",
   "name": "python3"
  },
  "language_info": {
   "codemirror_mode": {
    "name": "ipython",
    "version": 3
   },
   "file_extension": ".py",
   "mimetype": "text/x-python",
   "name": "python",
   "nbconvert_exporter": "python",
   "pygments_lexer": "ipython3",
   "version": "3.11.5"
  }
 },
 "nbformat": 4,
 "nbformat_minor": 2
}
