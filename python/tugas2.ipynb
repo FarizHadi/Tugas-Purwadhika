{
 "cells": [
  {
   "cell_type": "code",
   "execution_count": 4,
   "metadata": {},
   "outputs": [
    {
     "name": "stdout",
     "output_type": "stream",
     "text": [
      "3\n"
     ]
    }
   ],
   "source": [
    "#Q1\n",
    "spam = 'ababaababbbbcccbabcc'\n",
    "word = 'bab'\n",
    "\n",
    "count = 0\n",
    "\n",
    "for i in range(len(spam)):\n",
    "    if spam[i:i+3] == word:\n",
    "        count += 1\n",
    "print(count)\n",
    "    "
   ]
  },
  {
   "cell_type": "code",
   "execution_count": 4,
   "metadata": {},
   "outputs": [
    {
     "name": "stdout",
     "output_type": "stream",
     "text": [
      "True\n"
     ]
    }
   ],
   "source": [
    "#Q2\n",
    "spam = \"ooOxxX\"\n",
    "\n",
    "count_o = 0\n",
    "count_O = 0\n",
    "count_x = 0\n",
    "count_X = 0\n",
    "\n",
    "for i in spam:\n",
    "    if i == 'o':\n",
    "        count_o += 1\n",
    "    elif i == 'x':\n",
    "        count_x += 1\n",
    "    elif i == 'O':\n",
    "        count_O += 1\n",
    "    else:\n",
    "        count_X += 1            \n",
    "\n",
    "is_o_equal_x = count_o == count_x\n",
    "print(is_o_equal_x)"
   ]
  },
  {
   "cell_type": "code",
   "execution_count": 14,
   "metadata": {},
   "outputs": [
    {
     "name": "stdout",
     "output_type": "stream",
     "text": [
      "153 is narcissistic number\n"
     ]
    }
   ],
   "source": [
    "#Q3\n",
    "spam = 153\n",
    "\n",
    "str_spam = str(spam)\n",
    "number_ofDigits = len(str(spam))\n",
    "\n",
    "total_sum = 0\n",
    "\n",
    "for item in str_spam:\n",
    "    total_sum += int(item) ** number_ofDigits \n",
    "\n",
    "if total_sum == spam: \n",
    "    print(f\"{spam} is narcissistic number\")\n",
    "else: \n",
    "    print(f\"{spam} is NOT narcissistic number\")\n",
    "\n"
   ]
  },
  {
   "cell_type": "code",
   "execution_count": 32,
   "metadata": {},
   "outputs": [
    {
     "name": "stdout",
     "output_type": "stream",
     "text": [
      "1 2 Fizz 4 Buzz Fizz 7 8 Fizz Buzz 11 Fizz 13 14 FizzBuzz 16 17 Fizz 19 Buzz Fizz 22 23 Fizz Buzz 26 Fizz 28 29 FizzBuzz 31 32 Fizz 34 Buzz \n",
      "Terima kasih\n"
     ]
    }
   ],
   "source": [
    "#Q4\n",
    "while True:\n",
    "    input_number = input(\"Enter a number (greater than 0) or Quit: \")\n",
    "    result = \"\"\n",
    "    if input_number == \"Quit\":\n",
    "        break\n",
    "    else:\n",
    "        upTo = int(input_number)\n",
    "        for el in range(upTo):\n",
    "            item = el + 1\n",
    "            if item % 3 == 0 and item % 5 == 0: result += \"FizzBuzz \"\n",
    "            elif item % 3 == 0: result += \"Fizz \"\n",
    "            elif item % 5 == 0: result += \"Buzz \"\n",
    "            else: result += str(item) + \" \"\n",
    "        print(result)\n",
    "        break\n",
    "\n",
    "print(\"Terima kasih\")\n",
    "        \n"
   ]
  },
  {
   "cell_type": "code",
   "execution_count": 60,
   "metadata": {},
   "outputs": [
    {
     "name": "stdout",
     "output_type": "stream",
     "text": [
      "The Fox and dog.\n"
     ]
    }
   ],
   "source": [
    "#Q5\n",
    "text = \"The Fox and fox.\"\n",
    "oldText = \"fox\"\n",
    "newText = \"dog\"\n",
    "\n",
    "splitted_dot = text.split('.')\n",
    "text = \"\"\n",
    "\n",
    "for el in splitted_dot:\n",
    "    if el != '':\n",
    "        text += el\n",
    "\n",
    "splitted_text = text.split()\n",
    "\n",
    "for i in range(len(splitted_text)):\n",
    "    if splitted_text[i] == oldText:\n",
    "        splitted_text[i] = newText\n",
    "\n",
    "result = \" \".join(splitted_text) + '.'\n",
    "print(result)\n"
   ]
  },
  {
   "cell_type": "code",
   "execution_count": 65,
   "metadata": {},
   "outputs": [
    {
     "name": "stdout",
     "output_type": "stream",
     "text": [
      "[26, 13, 40, 20, 10, 5, 16, 8, 4, 2, 1]\n"
     ]
    }
   ],
   "source": [
    "#Q6\n",
    "from builtins import input\n",
    "starting_number = input(\"Enter a starting number (greater than 0) or QUIT:\")\n",
    "output = []\n",
    "\n",
    "if starting_number.lower() == \"quit\":\n",
    "        print(\"You are quiting\")\n",
    "else:\n",
    "    number = int(starting_number)\n",
    "    while number > 0:\n",
    "          if number == 1:\n",
    "               output.append(number)\n",
    "               print(output)\n",
    "               break\n",
    "          elif number % 2 == 0:\n",
    "             output.append(number)\n",
    "             number = number // 2\n",
    "          else:\n",
    "                output.append(number)\n",
    "                number = (number * 3) + 1"
   ]
  },
  {
   "cell_type": "code",
   "execution_count": 1,
   "metadata": {},
   "outputs": [
    {
     "name": "stdout",
     "output_type": "stream",
     "text": [
      "[0, 1, 1, 2, 3, 5, 8, 13, 21, 34]\n"
     ]
    }
   ],
   "source": [
    "#Q7\n",
    "user_input = input(\"Enter the Nth Fibonacci number you wish to calculate or QUIT to quit:\")\n",
    "output = [0,1]\n",
    "\n",
    "if user_input.upper() == \"QUIT\":\n",
    "    print(\"You are quitting\")\n",
    "else:\n",
    "    number = int(user_input)\n",
    "    for i in range(number - 2):\n",
    "        prev1 = output[i]\n",
    "        prev2 = output[i+1]\n",
    "        next_digit = prev1 + prev2\n",
    "        output.append(next_digit)\n",
    "    print(output)    "
   ]
  },
  {
   "cell_type": "code",
   "execution_count": 9,
   "metadata": {},
   "outputs": [
    {
     "name": "stdout",
     "output_type": "stream",
     "text": [
      "Key #0: QIIX QI FC XLI VSWI FYWLIW XSRMKLX.\n",
      "Key #1: PHHW PH EB WKH URVH EXVKHV WRQLJKW.\n",
      "Key #2: OGGV OG DA VJG TQUG DWUJGU VQPKIJV.\n",
      "Key #3: NFFU NF CZ UIF SPTF CVTIFT UPOJHIU.\n",
      "Key #4: MEET ME BY THE ROSE BUSHES TONIGHT.\n",
      "Key #5: LDDS LD AX SGD QNRD ATRGDR SNMHFGS.\n",
      "Key #6: KCCR KC ZW RFC PMQC ZSQFCQ RMLGEFR.\n",
      "Key #7: JBBQ JB YV QEB OLPB YRPEBP QLKFDEQ.\n",
      "Key #8: IAAP IA XU PDA NKOA XQODAO PKJECDP.\n",
      "Key #9: HZZO HZ WT OCZ MJNZ WPNCZN OJIDBCO.\n",
      "Key #10: GYYN GY VS NBY LIMY VOMBYM NIHCABN.\n",
      "Key #11: FXXM FX UR MAX KHLX UNLAXL MHGBZAM.\n",
      "Key #12: EWWL EW TQ LZW JGKW TMKZWK LGFAYZL.\n",
      "Key #13: DVVK DV SP KYV IFJV SLJYVJ KFEZXYK.\n",
      "Key #14: CUUJ CU RO JXU HEIU RKIXUI JEDYWXJ.\n",
      "Key #15: BTTI BT QN IWT GDHT QJHWTH IDCXVWI.\n",
      "Key #16: ASSH AS PM HVS FCGS PIGVSG HCBWUVH.\n",
      "Key #17: ZRRG ZR OL GUR EBFR OHFURF GBAVTUG.\n",
      "Key #18: YQQF YQ NK FTQ DAEQ NGETQE FAZUSTF.\n",
      "Key #19: XPPE XP MJ ESP CZDP MFDSPD EZYTRSE.\n",
      "Key #20: WOOD WO LI DRO BYCO LECROC DYXSQRD.\n",
      "Key #21: VNNC VN KH CQN AXBN KDBQNB CXWRPQC.\n",
      "Key #22: UMMB UM JG BPM ZWAM JCAPMA BWVQOPB.\n",
      "Key #23: TLLA TL IF AOL YVZL IBZOLZ AVUPNOA.\n",
      "Key #24: SKKZ SK HE ZNK XUYK HAYNKY ZUTOMNZ.\n",
      "Key #25: RJJY RJ GD YMJ WTXJ GZXMJX YTSNLMY.\n"
     ]
    }
   ],
   "source": [
    "#Q8\n",
    "user_inputQ8 = 'QIIX QI FC XLI VSWI FYWLIW XSRMKLX'\n",
    "letters = 'ABCDEFGHIJKLMNOPQRSTUVWXYZ'\n",
    "\n",
    "for num_shift in range(len(letters)):\n",
    "    decrypted = \"\"\n",
    "    for char in user_inputQ8:\n",
    "        if char in letters:\n",
    "            index_position = letters.find(char)\n",
    "            index_position = index_position - num_shift\n",
    "            if index_position < 0:\n",
    "                index_position = index_position + len(letters)\n",
    "            decrypted = decrypted + letters[index_position]   \n",
    "        else:\n",
    "           decrypted = decrypted + char  \n",
    "    print(f\"Key #{num_shift}: {decrypted}.\")        \n",
    "     \n",
    "\n"
   ]
  }
 ],
 "metadata": {
  "kernelspec": {
   "display_name": "base",
   "language": "python",
   "name": "python3"
  },
  "language_info": {
   "codemirror_mode": {
    "name": "ipython",
    "version": 3
   },
   "file_extension": ".py",
   "mimetype": "text/x-python",
   "name": "python",
   "nbconvert_exporter": "python",
   "pygments_lexer": "ipython3",
   "version": "3.11.5"
  }
 },
 "nbformat": 4,
 "nbformat_minor": 2
}
