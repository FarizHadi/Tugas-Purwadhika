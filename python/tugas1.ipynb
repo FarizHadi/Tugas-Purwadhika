{
 "cells": [
  {
   "cell_type": "code",
   "execution_count": 46,
   "metadata": {},
   "outputs": [
    {
     "name": "stdout",
     "output_type": "stream",
     "text": [
      "The length of your first name letter: 5\n",
      "['fariz', 'rachman']\n"
     ]
    }
   ],
   "source": [
    "#Q1\n",
    "name = input(\"enter your name: \")\n",
    "name_list = name.split()\n",
    "result = f\"The length of your first name letter: {len(name_list[0])}\"\n",
    "print(result)\n",
    "print(name_list)"
   ]
  },
  {
   "cell_type": "code",
   "execution_count": 24,
   "metadata": {},
   "outputs": [
    {
     "name": "stdout",
     "output_type": "stream",
     "text": [
      "umam ihsani ummah\n",
      "UMAMIHSANIUMMAH\n",
      "MMHAIMA\n"
     ]
    }
   ],
   "source": [
    "#Q2\n",
    "name = input(\"enter your name: \")\n",
    "print(name)\n",
    "\n",
    "name = name.upper().replace(\" \",\"\")\n",
    "print(name)\n",
    "\n",
    "output = name[1::2]\n",
    "print(output)\n",
    "\n"
   ]
  },
  {
   "cell_type": "code",
   "execution_count": 22,
   "metadata": {},
   "outputs": [
    {
     "name": "stdout",
     "output_type": "stream",
     "text": [
      "total:  22\n",
      "reverse:  7654\n"
     ]
    }
   ],
   "source": [
    "#Q3\n",
    "numbers = input(\"Enter 4 digit angka: \")\n",
    "d1 = int(numbers[0])\n",
    "d2 = int(numbers[1])\n",
    "d3 = int(numbers[2])\n",
    "d4 = int(numbers[3])\n",
    "\n",
    "total = d1+d2+d3+d4\n",
    "reverse = numbers[::-1]\n",
    "print(f\"total: \", total)\n",
    "print(f\"reverse: \",reverse)"
   ]
  },
  {
   "cell_type": "code",
   "execution_count": 28,
   "metadata": {},
   "outputs": [
    {
     "name": "stdout",
     "output_type": "stream",
     "text": [
      "['2', '5']\n",
      "['3', '7']\n",
      "slope:  2.0\n",
      "distance:  2.236\n"
     ]
    }
   ],
   "source": [
    "#Q4\n",
    "\n",
    "coor_A = input(\"Enter the coordinate of point A: \")\n",
    "coor_B = input(\"Enter the coordinate of point B: \")\n",
    "\n",
    "coor_A = coor_A.split(',')\n",
    "coor_B = coor_B.split(',')\n",
    "\n",
    "print(coor_A)\n",
    "print(coor_B)\n",
    "x1 = int(coor_A[0])\n",
    "y1 = int(coor_A[1])\n",
    "x2 = int(coor_B[0])\n",
    "y2 = int(coor_B[1])\n",
    "\n",
    "slope = (y2-y1) / (x2-x1) \n",
    "distance = (((x2-x1)**2) + ((y2-y1)**2))**0.5\n",
    "\n",
    "print(f\"slope: \", slope)\n",
    "print(f\"distance: \", round(distance,3))"
   ]
  },
  {
   "cell_type": "code",
   "execution_count": 37,
   "metadata": {},
   "outputs": [
    {
     "name": "stdout",
     "output_type": "stream",
     "text": [
      "dhiwa purka\n"
     ]
    }
   ],
   "source": [
    "#Q5\n",
    "inputString = input(\"Masukkan sample string (contoh: purwa, dhika): \").replace(\" \",\"\")\n",
    "\n",
    "inputString = inputString.split(',')\n",
    "str1 = inputString[0]\n",
    "str2 = inputString[1]\n",
    "\n",
    "str1_first_three_character = str1[0:3]\n",
    "str2_first_three_character = str2[0:3]\n",
    "\n",
    "# print(str1)\n",
    "# print(str2)\n",
    "# print()\n",
    "\n",
    "str1 = f\"{str2_first_three_character}{str1[3:]}\"\n",
    "str2 = f\"{str1_first_three_character}{str2[3:]}\"\n",
    "\n",
    "# print(str1)\n",
    "# print(str2)\n",
    "# print()\n",
    "\n",
    "print(str1 + \" \" + str2)\n",
    "\n"
   ]
  },
  {
   "cell_type": "code",
   "execution_count": 44,
   "metadata": {},
   "outputs": [
    {
     "name": "stdout",
     "output_type": "stream",
     "text": [
      "jPKdaA\n"
     ]
    }
   ],
   "source": [
    "#Q6\n",
    "text1 = input(\"input the first text: \")\n",
    "text2 = input(\"input the second text: \")\n",
    "\n",
    "\n",
    "first_letter = text1[0] + text2[0]\n",
    "middle_letter = text1[int(len(text1)/2)] + text2[int(len(text2)/2)]\n",
    "last_letter = text1[-1] + text2[-1]\n",
    "\n",
    "result = first_letter+middle_letter+last_letter\n",
    "print(result)\n"
   ]
  },
  {
   "cell_type": "code",
   "execution_count": 45,
   "metadata": {},
   "outputs": [
    {
     "name": "stdout",
     "output_type": "stream",
     "text": [
      "JCDS0210JOGJA\n"
     ]
    }
   ],
   "source": [
    "#Q7\n",
    "text1 = input(\"input the first text: \")\n",
    "text2 = input(\"input the second text: \")\n",
    "\n",
    "mid = len(text1)//2\n",
    "result = text1[0:mid] + text2 + text1[mid:]\n",
    "print(result)\n"
   ]
  },
  {
   "cell_type": "code",
   "execution_count": null,
   "metadata": {},
   "outputs": [],
   "source": []
  }
 ],
 "metadata": {
  "kernelspec": {
   "display_name": "base",
   "language": "python",
   "name": "python3"
  },
  "language_info": {
   "codemirror_mode": {
    "name": "ipython",
    "version": 3
   },
   "file_extension": ".py",
   "mimetype": "text/x-python",
   "name": "python",
   "nbconvert_exporter": "python",
   "pygments_lexer": "ipython3",
   "version": "3.11.5"
  }
 },
 "nbformat": 4,
 "nbformat_minor": 2
}
