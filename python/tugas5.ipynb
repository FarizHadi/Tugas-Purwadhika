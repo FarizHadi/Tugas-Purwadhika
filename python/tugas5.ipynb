{
 "cells": [
  {
   "cell_type": "code",
   "execution_count": 29,
   "metadata": {},
   "outputs": [
    {
     "name": "stdout",
     "output_type": "stream",
     "text": [
      "inventory :\n",
      "45 gold coin\n",
      "1 rope\n",
      "1 dagger\n",
      "1 ruby\n",
      "Total number of items: 48\n"
     ]
    }
   ],
   "source": [
    "inventory = {'gold coin': 42, 'rope': 1}\n",
    "dragonLoot = ['gold coin', 'dagger', 'gold coin', 'gold coin', 'ruby']\n",
    "\n",
    "def addToInventory(inventory, addedItems):\n",
    "    for item in addedItems:\n",
    "        if item in inventory:\n",
    "            inventory[item] = inventory[item] + 1\n",
    "        else:\n",
    "            inventory[item] = 1\n",
    "\n",
    "    print(\"inventory :\")\n",
    "    for key, val in inventory.items():\n",
    "        print(f\"{val} {key}\")        \n",
    "\n",
    "addToInventory(inventory, dragonLoot)\n",
    "\n",
    "total_items = sum(list(inventory.values()))\n",
    " \n",
    "print(f\"Total number of items: {total_items}\")        "
   ]
  },
  {
   "cell_type": "code",
   "execution_count": 30,
   "metadata": {},
   "outputs": [
    {
     "name": "stdout",
     "output_type": "stream",
     "text": [
      "first_non_repeating_char: 1\n",
      "first_repeating_char: r\n"
     ]
    }
   ],
   "source": [
    "#Q2\n",
    "\n",
    "text = \"123PurwadhikaHeroesHeroes\"\n",
    "\n",
    "def repeatingCount(text):\n",
    "\n",
    "    count_repeat = 0\n",
    "    count_non_repeat = 0\n",
    "\n",
    "    first_non_repeating_char = ''\n",
    "    first_repeating_char = ''\n",
    "\n",
    "    isdone_non_repeat_char = False\n",
    "    isdone_repeat_char = False\n",
    "    \n",
    "    # Mekanisme to find first-non-repeating-char\n",
    "    for i in range(len(text)):\n",
    "        curr_char = text[i]\n",
    "        for j in range(len(text)):\n",
    "            next_char = text[j]\n",
    "            if i == j:\n",
    "                continue\n",
    "            else:\n",
    "                if curr_char == next_char:\n",
    "                    count_repeat += 1\n",
    "        if count_repeat == 0 and isdone_non_repeat_char == False:\n",
    "            first_non_repeating_char = curr_char\n",
    "            isdone_non_repeat_char = True\n",
    "        if isdone_non_repeat_char == True:\n",
    "            break    \n",
    "    print(f\"first_non_repeating_char: {first_non_repeating_char}\")\n",
    "\n",
    "    # Mekanisme to find first-repeating-char\n",
    "    for i in range(len(text)):\n",
    "        curr_char = text[i]\n",
    "        for j in range(len(text)):\n",
    "            next_char = text[j]\n",
    "            if i == j:\n",
    "                continue\n",
    "            else:\n",
    "                if next_char == curr_char:\n",
    "                    first_repeating_char = curr_char\n",
    "                    count_repeat += 1\n",
    "                    isdone_repeat_char = True\n",
    "                if count_repeat > 0 and isdone_repeat_char == True:\n",
    "                    break\n",
    "    print(f\"first_repeating_char: {first_repeating_char}\")\n",
    "\n",
    "\n",
    "\n",
    "repeatingCount(text)"
   ]
  },
  {
   "cell_type": "code",
   "execution_count": 47,
   "metadata": {},
   "outputs": [],
   "source": [
    "#Q3\n",
    "text = 'sEEquOiaL'\n",
    "def check(text):\n",
    "    vowel_lower = ['a','i','u','e','o']\n",
    "    vowel_upper = ['A','I','U','E','O']\n",
    "\n",
    "    is_vowel_missing = False\n",
    "    for i in range(5):\n",
    "        vow_low = vowel_lower[i]\n",
    "        vow_upp = vowel_upper[i]\n",
    "\n",
    "        is_vow_low_present = vow_low in text\n",
    "        is_vow_upp_present = vow_upp in text\n",
    "\n",
    "        if is_vow_low_present == False and is_vow_upp_present == False:\n",
    "            is_vowel_missing = True\n",
    "        if is_vowel_missing == True:\n",
    "            return False    \n",
    "    return True   \n",
    "        \n",
    "\n",
    "\n",
    "\n",
    "assert check('sEEquOiaL') == True\n",
    "assert check('Squ0iaL') == False\n",
    "assert check('') == False"
   ]
  },
  {
   "cell_type": "code",
   "execution_count": 3,
   "metadata": {},
   "outputs": [
    {
     "name": "stdout",
     "output_type": "stream",
     "text": [
      "False\n",
      "True\n",
      "True\n"
     ]
    }
   ],
   "source": [
    "#Q4\n",
    "text = 'purwadhika jogja'\n",
    "\n",
    "def cekHeterogram(text):\n",
    "    count_alpha = 0\n",
    "    count_num = 0\n",
    "    text = text.replace(' ','').lower()\n",
    "    for i in range(0, len(text)):\n",
    "        char = text[i]\n",
    "        for j in range(i + 1, len(text)):\n",
    "            if text[j] == text[i]:\n",
    "                if char.isalpha():\n",
    "                    count_alpha += 1\n",
    "                else:\n",
    "                    count_num +=1     \n",
    "    if count_alpha > 0:\n",
    "        return False        \n",
    "    return True        \n",
    "\n",
    "\n",
    "print(cekHeterogram('purwadhika jogja'))\n",
    "print(cekHeterogram('jcds 0210'))\n",
    "print(cekHeterogram('  '))\n",
    "\n",
    "assert cekHeterogram('purwadhika jogja') == False\n",
    "assert cekHeterogram('jcds 0210') == True\n",
    "assert cekHeterogram('  ') == True"
   ]
  }
 ],
 "metadata": {
  "kernelspec": {
   "display_name": "base",
   "language": "python",
   "name": "python3"
  },
  "language_info": {
   "codemirror_mode": {
    "name": "ipython",
    "version": 3
   },
   "file_extension": ".py",
   "mimetype": "text/x-python",
   "name": "python",
   "nbconvert_exporter": "python",
   "pygments_lexer": "ipython3",
   "version": "3.11.5"
  }
 },
 "nbformat": 4,
 "nbformat_minor": 2
}
